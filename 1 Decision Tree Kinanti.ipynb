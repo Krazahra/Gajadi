import pandas as pd
from sklearn.model_selection import train_test_split
from sklearn.tree import DecisionTreeRegressor
from sklearn.metrics import mean_squared_error

# Baca data dari file CSV
url = "/content/drive/MyDrive/Dataset/melb_data.csv"
data = pd.read_csv(url)

# Tampilkan lima baris pertama dari data
print(data.head())


# Pisahkan fitur dan target dan memilih kolom dengan tipe int dan float
X = data.select_dtypes(include=['float64','int64']) 
X = X.dropna(axis=1)  
Y = data['Price']  

# Bagi data menjadi data latih dan data uji
X_train, X_test, Y_train, Y_test = train_test_split(X, Y, test_size=0.2, random_state=42)

# Buat model Decision Tree
model = DecisionTreeRegressor(random_state=42)

# Latih model pada data latih
model.fit(X_train, Y_train)

# Lakukan prediksi pada data uji
Y_pred = model.predict(X_test)

# Evaluasi model
mse = mean_squared_error(Y_test, Y_pred)
print("Mean Squared Error:", mse)
